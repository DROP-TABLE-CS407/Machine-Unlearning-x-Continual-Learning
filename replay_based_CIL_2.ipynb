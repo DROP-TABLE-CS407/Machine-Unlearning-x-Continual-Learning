{
 "cells": [
  {
   "cell_type": "markdown",
   "metadata": {},
   "source": [
    "# Replay based Class Incremental Learning (CIL) with PyTorch\n",
    "\n",
    "This notebook covers a simplified implementation of class incremental learning (CIL) using replay-based techniques. The goal of CIL is to learn a model that can incrementally learn new classes without forgetting the previously learned classes. In this notebook, we will use a replay-based technique to store and replay the data from the previous classes to prevent forgetting.\n",
    "\n",
    "To do this, we will use the following steps:\n",
    "Train base model on the first set of two classes e.g. 0 and 1 for 100 epochs utilising Stochastic Gradient Descent (SGD) with a learning rate of 0.01.\n",
    "After training our base model, we will then store a subset of our data from the first two classes in a replay buffer, let $R_i$ be the replay buffer for class $i$ and $D_i$ be the training data for class $i$ up to that training step inclusive of all previous classes.\n",
    "\n",
    "We denote: $R_i \\subseteq D_i$\n",
    "\n",
    "And: $D_i = \\cup_{x = 0}^{i}d_x$\n",
    "\n",
    "Where $d_x$ is the data for class $x$.\n",
    "\n",
    "i.e. the replay buffer will only contain a variant subset of the data from the previous classes as opposed to all the data of that class which\n",
    "we can change to determine the effect of the replay buffer size on the model's performance.\n",
    "\n",
    "From this point onwards, we will incrementally train our model utilising Class-Incremental Learning (CIL) by training on the class and replaying the data from the previous classes.\n",
    "\n",
    "This model will utilise a standard implementation of a ResNet18 CNN model with a single fully connected layer at the end to classify the images. It will also be trained on the CIFAR-10 dataset, which contains 60,000 32x32 colour images in 10 classes, with 6,000 images per class."
   ]
  },
  {
   "cell_type": "code",
   "execution_count": 1,
   "metadata": {},
   "outputs": [
    {
     "data": {
      "image/png": "[encoded data removed]",
      "text/plain": [
       "<Figure size 640x480 with 1 Axes>"
      ]
     },
     "metadata": {},
     "output_type": "display_data"
    }
   ],
   "source": [
    "import torch\n",
    "import numpy as np\n",
    "import matplotlib.pyplot as plt\n",
    "from PIL import Image\n",
    "from torchvision import transforms\n",
    "import time\n",
    "from cifar import load_cifar10_data, split_into_classes, get_class_indexes \n",
    "from torch.utils.data import DataLoader\n",
    "import random\n",
    "\n",
    "# Path to the dataset\n",
    "DATASET_PATH = 'cifar-10-batches-py' \n",
    "CLASSES = ['airplane', 'automobile', 'bird', 'cat', 'deer', 'dog', 'frog', 'horse', 'ship', 'truck']\n"
   ]
  },
  {
   "cell_type": "markdown",
   "metadata": {},
   "source": [
    "### Define custom ResNet18 model for CIFAR10\n",
    "\n",
    "In this case we chance the convolution kernel to 3x3 and the stride to 1 for the first layer. We will also change the number of classes on the final softmax layer to 10 to match the CIFAR10 dataset."
   ]
  },
  {
   "cell_type": "code",
   "execution_count": 2,
   "metadata": {},
   "outputs": [
    {
     "name": "stderr",
     "output_type": "stream",
     "text": [
      "Using cache found in /dcs/21/u2145461/.cache/torch/hub/pytorch_vision_v0.10.0\n",
      "/local/java/python-ml/22-12-21-python3.9/lib64/python3.9/site-packages/torchvision/models/_utils.py:208: UserWarning: The parameter 'pretrained' is deprecated since 0.13 and may be removed in the future, please use 'weights' instead.\n",
      "  warnings.warn(\n",
      "/local/java/python-ml/22-12-21-python3.9/lib64/python3.9/site-packages/torchvision/models/_utils.py:223: UserWarning: Arguments other than a weight enum or `None` for 'weights' are deprecated since 0.13 and may be removed in the future. The current behavior is equivalent to passing `weights=None`.\n",
      "  warnings.warn(msg)\n"
     ]
    },
    {
     "data": {
      "text/plain": [
       "<bound method Module.eval of ResNet18CIFAR(\n",
       "  (resnet): ResNet(\n",
       "    (conv1): Conv2d(3, 128, kernel_size=(3, 3), stride=(1, 1), padding=(1, 1), bias=False)\n",
       "    (bn1): BatchNorm2d(128, eps=1e-05, momentum=0.1, affine=True, track_running_stats=True)\n",
       "    (relu): ReLU(inplace=True)\n",
       "    (maxpool): Identity()\n",
       "    (layer1): Sequential(\n",
       "      (0): Conv2d(128, 128, kernel_size=(3, 3), stride=(1, 1), padding=(1, 1), bias=False)\n",
       "      (1): BatchNorm2d(128, eps=1e-05, momentum=0.1, affine=True, track_running_stats=True)\n",
       "      (2): ReLU()\n",
       "      (3): Conv2d(128, 128, kernel_size=(3, 3), stride=(1, 1), padding=(1, 1), bias=False)\n",
       "      (4): BatchNorm2d(128, eps=1e-05, momentum=0.1, affine=True, track_running_stats=True)\n",
       "    )\n",
       "    (layer2): Sequential(\n",
       "      (0): Conv2d(128, 256, kernel_size=(3, 3), stride=(2, 2), padding=(1, 1), bias=False)\n",
       "      (1): BatchNorm2d(256, eps=1e-05, momentum=0.1, affine=True, track_running_stats=True)\n",
       "      (2): ReLU()\n",
       "      (3): Conv2d(256, 256, kernel_size=(3, 3), stride=(1, 1), padding=(1, 1), bias=False)\n",
       "      (4): BatchNorm2d(256, eps=1e-05, momentum=0.1, affine=True, track_running_stats=True)\n",
       "    )\n",
       "    (layer3): Sequential(\n",
       "      (0): Conv2d(256, 512, kernel_size=(3, 3), stride=(2, 2), padding=(1, 1), bias=False)\n",
       "      (1): BatchNorm2d(512, eps=1e-05, momentum=0.1, affine=True, track_running_stats=True)\n",
       "      (2): ReLU()\n",
       "      (3): Conv2d(512, 512, kernel_size=(3, 3), stride=(1, 1), padding=(1, 1), bias=False)\n",
       "      (4): BatchNorm2d(512, eps=1e-05, momentum=0.1, affine=True, track_running_stats=True)\n",
       "    )\n",
       "    (layer4): Sequential(\n",
       "      (0): Conv2d(512, 1024, kernel_size=(3, 3), stride=(2, 2), padding=(1, 1), bias=False)\n",
       "      (1): BatchNorm2d(1024, eps=1e-05, momentum=0.1, affine=True, track_running_stats=True)\n",
       "      (2): ReLU()\n",
       "      (3): Conv2d(1024, 1024, kernel_size=(3, 3), stride=(1, 1), padding=(1, 1), bias=False)\n",
       "      (4): BatchNorm2d(1024, eps=1e-05, momentum=0.1, affine=True, track_running_stats=True)\n",
       "    )\n",
       "    (avgpool): AdaptiveAvgPool2d(output_size=(1, 1))\n",
       "    (fc): Linear(in_features=1024, out_features=5, bias=True)\n",
       "  )\n",
       ")>"
      ]
     },
     "execution_count": 2,
     "metadata": {},
     "output_type": "execute_result"
    }
   ],
   "source": [
    "class ResNet18CIFAR(torch.nn.Module):\n",
    "    def __init__(self):\n",
    "        super(ResNet18CIFAR, self).__init__()\n",
    "        self.resnet = torch.hub.load('pytorch/vision:v0.10.0', 'resnet18', pretrained=False)\n",
    "        # change the first layer to accept 32x32 images with 3 channels rather than 224x224 images\n",
    "        # check the size of the input layer\n",
    "        self.resnet.conv1 = torch.nn.Conv2d(3, 128, kernel_size=3, stride=1, padding=1, bias=False)\n",
    "        \n",
    "        self.resnet.bn1 = torch.nn.BatchNorm2d(128)\n",
    "        # change number of blocks per layer\n",
    "        self.resnet.layer1 = torch.nn.Sequential(\n",
    "            torch.nn.Conv2d(128, 128, kernel_size=3, stride=1, padding=1, bias=False),\n",
    "            torch.nn.BatchNorm2d(128),\n",
    "            torch.nn.ReLU(),\n",
    "            torch.nn.Conv2d(128, 128, kernel_size=3, stride=1, padding=1, bias=False),\n",
    "            torch.nn.BatchNorm2d(128)\n",
    "        )\n",
    "        self.resnet.layer2 = torch.nn.Sequential(\n",
    "            torch.nn.Conv2d(128, 256, kernel_size=3, stride=2, padding=1, bias=False),\n",
    "            torch.nn.BatchNorm2d(256),\n",
    "            torch.nn.ReLU(),\n",
    "            torch.nn.Conv2d(256, 256, kernel_size=3, stride=1, padding=1, bias=False),\n",
    "            torch.nn.BatchNorm2d(256)\n",
    "        )\n",
    "        self.resnet.layer3 = torch.nn.Sequential(\n",
    "            torch.nn.Conv2d(256, 512, kernel_size=3, stride=2, padding=1, bias=False),\n",
    "            torch.nn.BatchNorm2d(512),\n",
    "            torch.nn.ReLU(),\n",
    "            torch.nn.Conv2d(512, 512, kernel_size=3, stride=1, padding=1, bias=False),\n",
    "            torch.nn.BatchNorm2d(512)\n",
    "        )\n",
    "        self.resnet.layer4 = torch.nn.Sequential(\n",
    "            torch.nn.Conv2d(512, 1024, kernel_size=3, stride=2, padding=1, bias=False),\n",
    "            torch.nn.BatchNorm2d(1024),\n",
    "            torch.nn.ReLU(),\n",
    "            torch.nn.Conv2d(1024, 1024, kernel_size=3, stride=1, padding=1, bias=False),\n",
    "            torch.nn.BatchNorm2d(1024)\n",
    "        )\n",
    "        # change input layer to accept 32x32 images by utilising smaller convolutional kernel\n",
    "        self.resnet.fc = torch.nn.Linear(1024, 5)\n",
    "        # start with 5 classes and add more as needed\n",
    "        self.resnet.maxpool = torch.nn.Identity()\n",
    "        # maxpool worsens performance and is unnecessary for small image sizes\n",
    "        \n",
    "\n",
    "    def forward(self, x):\n",
    "        return self.resnet(x)\n",
    "    \n",
    "model = ResNet18CIFAR()\n",
    "model.eval"
   ]
  },
  {
   "cell_type": "markdown",
   "metadata": {},
   "source": [
    "### Data Load and Preprocessing into separate class datasets\n",
    "\n",
    "Utilise the CIFAR-10 dataset alongside a prebuilt dataloader to load the data into separate class datasets.\n",
    "(Krishi's code)"
   ]
  },
  {
   "cell_type": "code",
   "execution_count": 3,
   "metadata": {},
   "outputs": [],
   "source": [
    "train_data, train_labels, test_data, test_labels = load_cifar10_data(DATASET_PATH)\n",
    "classes = ['airplane', 'automobile', 'bird', 'cat', 'deer', 'dog', 'frog', 'horse', 'ship', 'truck']\n"
   ]
  },
  {
   "cell_type": "markdown",
   "metadata": {},
   "source": [
    "\n",
    "# The Algorithm\n",
    "\n",
    "Train initial model on the first two classes.\n",
    "\n",
    "For each class $i$ in the dataset:\n",
    "\n",
    "1. Train the model on the current class $i$ and replay the data from the previous classes.\n",
    "\n",
    "2. Store a subset of the data from the current class $i$ in the replay buffer $R_i$.\n",
    "\n",
    "3. Evaluate the model on the test set.\n",
    "\n",
    "4. Increment the number of classes seen.\n",
    "\n",
    "5. Repeat steps 1-4 for each class in the dataset.\n",
    "\n",
    "Note: the size of the replay buffer is a hyperparameter that can be tuned to determine the effect of the replay buffer size on the model's performance.\n",
    "\n",
    "The following hyperparameters will be used in this notebook:\n",
    "\n",
    "- Epochs: 100 (per class)\n",
    "- Learning rate: 0.00005\n",
    "- Momentum: 0.9 (if using SGD)\n",
    "- Batch size: 512\n",
    "- Replay buffer size: Variant (e.g. 1000, 2000, 3000, 4000, 5000 per class)\n",
    "\n",
    "### References\n",
    "\n",
    "1. [Continual Learning with Deep Architectures: A Review](https://arxiv.org/abs/1907.04471)\n",
    "\n",
    "2. [RECALL Replay Based Continual Learning in Semantic Segmentation](https://openaccess.thecvf.com/content/ICCV2021/papers/Maracani_RECALL_Replay-Based_Continual_Learning_in_Semantic_Segmentation_ICCV_2021_paper.pdf)"
   ]
  },
  {
   "cell_type": "code",
   "execution_count": 4,
   "metadata": {},
   "outputs": [],
   "source": [
    "def calculate_accuracy(model, accuracies, input_data, input_labels):\n",
    "        # calculate accuracy\n",
    "        correct = 0\n",
    "        total = len(input_data)\n",
    "        batch = 100\n",
    "        for j in range(0, len(input_data), batch):\n",
    "            image = input_data[j:j+batch]\n",
    "            labels = input_labels[j:j+batch]\n",
    "            outputs = model(image)\n",
    "            # get the index of the highest value\n",
    "            _, predicted = torch.max(outputs.data, 1)\n",
    "            # add the number of correct predictions to the total\n",
    "            correct += (predicted == labels).sum().item()\n",
    "                \n",
    "        accuracy_string = \"Accuracy: \"\n",
    "        accuracies.append(correct/total * 100)\n",
    "        accuracy_string += (f\"{correct/total * 100:.2f}% \")\n",
    "\n",
    "        return accuracy_string, accuracies"
   ]
  },
  {
   "cell_type": "code",
   "execution_count": 5,
   "metadata": {},
   "outputs": [
    {
     "name": "stdout",
     "output_type": "stream",
     "text": [
      "Memory allocated: 0.0 GB\n",
      "Epoch 1/100, Accuracy: 17.00% Loss: 1.633905291557312\n",
      "Epoch 2/100, Accuracy: 57.84% Loss: 1.0140568017959595\n",
      "Epoch 3/100, Accuracy: 63.50% Loss: 0.8860978484153748\n",
      "Epoch 4/100, Accuracy: 63.97% Loss: 0.8546938300132751\n",
      "Epoch 5/100, Accuracy: 67.06% Loss: 0.8041112422943115\n",
      "Epoch 6/100, Accuracy: 69.30% Loss: 0.7441363334655762\n",
      "Epoch 7/100, Accuracy: 68.43% Loss: 0.7397769689559937\n",
      "Epoch 8/100, Accuracy: 72.80% Loss: 0.6486735343933105\n"
     ]
    },
    {
     "data": {
      "text/plain": [
       "68.26"
      ]
     },
     "execution_count": 5,
     "metadata": {},
     "output_type": "execute_result"
    }
   ],
   "source": [
    "# free up gpu memory\n",
    "torch.cuda.empty_cache()\n",
    "memory = torch.cuda.memory_allocated()\n",
    "print(f\"Memory allocated: {memory/1e9} GB\")\n",
    "\n",
    "replay_memory = {cls: [] for cls in CLASSES}\n",
    "accuracies = []\n",
    "learning_rate = 0.01\n",
    "momentum = 0.9\n",
    "batch_size = 1000\n",
    "epochs = 100\n",
    "loss_function = torch.nn.CrossEntropyLoss()\n",
    "# output is softmax gaussian probability distribution, so cross entropy loss is appropriate\n",
    "optimiser = torch.optim.SGD(model.parameters(), lr=learning_rate)\n",
    "losses = []\n",
    "\n",
    "# firstly, train on 5 classes utilising Adam\n",
    "current_train_data, current_train_labels = split_into_classes(train_data, train_labels, ['airplane', 'automobile', 'bird', 'cat', 'deer'])\n",
    "\n",
    "# convert to tensors\n",
    "current_train_data = torch.tensor(current_train_data).float()\n",
    "current_train_labels = torch.tensor(current_train_labels)\n",
    "\n",
    "current_test_data, current_test_labels = split_into_classes(test_data, test_labels, ['airplane', 'automobile', 'bird', 'cat', 'deer'])\n",
    "\n",
    "current_test_data = torch.tensor(current_test_data).float()\n",
    "current_test_labels = torch.tensor(current_test_labels)\n",
    "\n",
    "if torch.cuda.is_available():\n",
    "    model = model.cuda()\n",
    "    current_train_data = current_train_data.cuda()\n",
    "    current_train_labels = current_train_labels.cuda()\n",
    "    current_test_data = current_test_data.cuda()\n",
    "    current_test_labels = current_test_labels.cuda()\n",
    "\n",
    "# we have figured out CUDA for jupyter notebooks :)\n",
    "for i in range(epochs):\n",
    "    accuracy_string, accuracies = calculate_accuracy(model, accuracies, current_train_data, current_train_labels)\n",
    "    # calculate accuracy\n",
    "    \n",
    "    for j in range(0, len(current_train_data), batch_size):\n",
    "        optimiser.zero_grad()\n",
    "        images = current_train_data[j:j+batch_size]\n",
    "        labels = current_train_labels[j:j+batch_size]\n",
    "        \n",
    "        outputs = model(images)\n",
    "        loss = loss_function(outputs, labels)\n",
    "        if j == 0:\n",
    "            losses.append(loss.item())\n",
    "        loss.backward()\n",
    "        optimiser.step()\n",
    "    print(f\"Epoch {i+1}/{epochs}, \" + accuracy_string + f\"Loss: {losses[len(losses)-1]}\")\n",
    "    # accuracy greater than 80% we stop training\n",
    "    if accuracies[len(accuracies)-1] > 70:\n",
    "        break\n",
    "    \n",
    "accuracy_string, _ = calculate_accuracy(model, accuracies, current_test_data, current_test_labels)\n",
    "# remove last element from accuracies\n",
    "accuracies.pop()\n"
   ]
  },
  {
   "cell_type": "markdown",
   "metadata": {},
   "source": [
    "### Initial Results for five classes"
   ]
  },
  {
   "cell_type": "code",
   "execution_count": 6,
   "metadata": {},
   "outputs": [
    {
     "data": {
      "image/png": "[encoded data removed]",
      "text/plain": [
       "<Figure size 640x480 with 1 Axes>"
      ]
     },
     "metadata": {},
     "output_type": "display_data"
    },
    {
     "data": {
      "image/png": "[encoded data removed]",
      "text/plain": [
       "<Figure size 640x480 with 1 Axes>"
      ]
     },
     "metadata": {},
     "output_type": "display_data"
    }
   ],
   "source": [
    "# plot the loss and accuracy\n",
    "# fix axes labels\n",
    "plt.plot(losses)\n",
    "plt.title('Loss')\n",
    "plt.show()\n",
    "\n",
    "# show airplane and automobile accuracies\n",
    "\n",
    "plt.plot(accuracies, label='Train Set Accuracy')\n",
    "plt.title('Train Set Accuracy')\n",
    "plt.legend()\n",
    "plt.show()"
   ]
  },
  {
   "cell_type": "code",
   "execution_count": 7,
   "metadata": {},
   "outputs": [],
   "source": [
    "def calculate_accuracy_class(model, accuracies, data, labels):\n",
    "        # calculate accuracy\n",
    "        correct = [0] * 10\n",
    "        total = len(data)/10\n",
    "        batch_size = 1000\n",
    "        with torch.no_grad():\n",
    "            for j in range(0, len(data), batch_size):\n",
    "                image = data[j:j+batch_size]\n",
    "                label = labels[j:j+batch_size]\n",
    "                outputs = model(image)\n",
    "                _, predicted = torch.max(outputs.data, 1)\n",
    "                for i in range(10):  \n",
    "                    correct[i] += (predicted[label == i] == label[label == i]).sum().item()\n",
    "        \n",
    "        j = 0\n",
    "        accuracy_string = \"Accuracy: \"\n",
    "        for classes in accuracies:\n",
    "             accuracies[classes].append(correct[j]/total * 100)\n",
    "             accuracy_string += (f\"\" + classes + f\": {correct[j]/total * 100:.2f}%, \")\n",
    "             j += 1\n",
    "\n",
    "        return accuracy_string, accuracies"
   ]
  },
  {
   "cell_type": "markdown",
   "metadata": {},
   "source": [
    "# Train on next 5 classes"
   ]
  },
  {
   "cell_type": "code",
   "execution_count": null,
   "metadata": {},
   "outputs": [
    {
     "name": "stdout",
     "output_type": "stream",
     "text": [
      "tensor([[ 0.0437,  0.0395,  0.0339,  ..., -0.0395, -0.0049,  0.0170],\n",
      "        [ 0.0416, -0.0075, -0.0218,  ..., -0.0086,  0.0312, -0.0362],\n",
      "        [ 0.0216, -0.0339,  0.0419,  ...,  0.0026,  0.0175, -0.0315],\n",
      "        ...,\n",
      "        [ 0.0315, -0.0353,  0.0264,  ..., -0.0266,  0.0004,  0.0151],\n",
      "        [-0.0261, -0.0211, -0.0379,  ...,  0.0264, -0.0189,  0.0272],\n",
      "        [ 0.0333, -0.0207,  0.0128,  ...,  0.0361, -0.0178, -0.0413]])\n",
      "tensor([[-1.4741e-04,  8.0841e-03,  2.7169e-02,  ..., -1.3968e-02,\n",
      "          1.5027e-02,  1.0934e-02],\n",
      "        [ 7.2560e-03,  1.0760e-02, -4.9471e-03,  ..., -3.1943e-02,\n",
      "         -1.2594e-02, -4.0989e-03],\n",
      "        [ 1.7364e-06,  2.9075e-03,  3.1930e-02,  ...,  2.1435e-02,\n",
      "         -1.9865e-02,  2.2318e-02],\n",
      "        [ 3.0543e-02, -3.2931e-02,  2.7480e-02,  ..., -1.6533e-03,\n",
      "          1.9320e-02,  3.4188e-02],\n",
      "        [-2.1773e-03,  2.5954e-02,  3.6262e-03,  ..., -7.5786e-03,\n",
      "         -2.3127e-02, -2.4696e-02]], device='cuda:0')\n"
     ]
    },
    {
     "ename": "RuntimeError",
     "evalue": "The expanded size of the tensor (512) must match the existing size (1024) at non-singleton dimension 1.  Target sizes: [5, 512].  Tensor sizes: [5, 1024]",
     "output_type": "error",
     "traceback": [
      "\u001b[0;31m---------------------------------------------------------------------------\u001b[0m",
      "\u001b[0;31mRuntimeError\u001b[0m                              Traceback (most recent call last)",
      "Cell \u001b[0;32mIn[8], line 13\u001b[0m\n\u001b[1;32m     11\u001b[0m \u001b[38;5;28mprint\u001b[39m(new_10_output_layer\u001b[38;5;241m.\u001b[39mweight\u001b[38;5;241m.\u001b[39mdata)\n\u001b[1;32m     12\u001b[0m \u001b[38;5;28mprint\u001b[39m(old_weights)\n\u001b[0;32m---> 13\u001b[0m \u001b[43mnew_10_output_layer\u001b[49m\u001b[38;5;241;43m.\u001b[39;49m\u001b[43mweight\u001b[49m\u001b[38;5;241;43m.\u001b[39;49m\u001b[43mdata\u001b[49m\u001b[43m[\u001b[49m\u001b[43m:\u001b[49m\u001b[38;5;241;43m5\u001b[39;49m\u001b[43m]\u001b[49m \u001b[38;5;241m=\u001b[39m old_weights\n\u001b[1;32m     14\u001b[0m new_10_output_layer\u001b[38;5;241m.\u001b[39mbias\u001b[38;5;241m.\u001b[39mdata[:\u001b[38;5;241m5\u001b[39m] \u001b[38;5;241m=\u001b[39m old_biases\n\u001b[1;32m     15\u001b[0m model\u001b[38;5;241m.\u001b[39mresnet\u001b[38;5;241m.\u001b[39mfc \u001b[38;5;241m=\u001b[39m new_10_output_layer\n",
      "\u001b[0;31mRuntimeError\u001b[0m: The expanded size of the tensor (512) must match the existing size (1024) at non-singleton dimension 1.  Target sizes: [5, 512].  Tensor sizes: [5, 1024]"
     ]
    }
   ],
   "source": [
    "from cifar import split_into_classes\n",
    "\n",
    "MEMORY_BUFFER = 15000\n",
    "\n",
    "replay_memory_data, replay_memory_labels = split_into_classes(train_data, train_labels, ['airplane', 'automobile', 'bird', 'cat', 'deer'])\n",
    "replay_memory_data = replay_memory_data[:MEMORY_BUFFER]\n",
    "replay_memory_labels = replay_memory_labels[:MEMORY_BUFFER]\n",
    "old_weights = model.resnet.fc.weight.data.clone()\n",
    "old_biases = model.resnet.fc.bias.data.clone()\n",
    "new_10_output_layer = torch.nn.Linear(1024, 10)\n",
    "print(new_10_output_layer.weight.data)\n",
    "print(old_weights)\n",
    "new_10_output_layer.weight.data[:5] = old_weights\n",
    "new_10_output_layer.bias.data[:5] = old_biases\n",
    "model.resnet.fc = new_10_output_layer\n",
    "\n",
    "# free up gpu memory\n",
    "torch.cuda.empty_cache()\n",
    "memory = torch.cuda.memory_allocated()\n",
    "print(f\"Memory allocated: {memory/1e9} GB\")\n",
    "\n",
    "accuracies_class = {cls: [] for cls in CLASSES}\n",
    "accuracies_class_test = {cls: [] for cls in CLASSES}\n",
    "\n",
    "accuracies = []\n",
    "learning_rate = 0.01\n",
    "momentum = 0.9\n",
    "batch_size = 1000\n",
    "epochs = 100\n",
    "loss_function = torch.nn.CrossEntropyLoss()\n",
    "# output is softmax gaussian probability distribution, so cross entropy loss is appropriate\n",
    "optimiser = torch.optim.SGD(model.parameters(), lr=learning_rate)\n",
    "losses = []\n",
    "\n",
    "# firstly, train on 5 classes utilising SGD\n",
    "current_train_data, current_train_labels = split_into_classes(train_data, train_labels, ['dog', 'frog', 'horse', 'ship', 'truck'])\n",
    "\n",
    "current_train_data = list(replay_memory_data) + list(current_train_data)\n",
    "current_train_labels = list(replay_memory_labels) + list(current_train_labels)\n",
    "\n",
    "# shuffle the data\n",
    "shuffled = list(zip(current_train_data, current_train_labels))\n",
    "random.shuffle(shuffled)\n",
    "current_train_data, current_train_labels = zip(*shuffled)\n",
    "\n",
    "current_test_data, current_test_labels = split_into_classes(test_data, test_labels, CLASSES)\n",
    "\n",
    "# convert to tensors\n",
    "current_train_data = torch.tensor(current_train_data).float()\n",
    "current_train_labels = torch.tensor(current_train_labels)\n",
    "\n",
    "train_data = torch.tensor(train_data).float()\n",
    "train_labels = torch.tensor(train_labels)\n",
    "current_test_data = torch.tensor(current_test_data).float()\n",
    "current_test_labels = torch.tensor(current_test_labels)\n",
    "\n",
    "if torch.cuda.is_available():\n",
    "    model = model.cuda()\n",
    "    current_train_data = current_train_data.cuda()\n",
    "    current_train_labels = current_train_labels.cuda()\n",
    "    current_test_data = current_test_data.cuda()\n",
    "    current_test_labels = current_test_labels.cuda()\n",
    "\n",
    "# we have figured out CUDA for jupyter notebooks :)\n",
    "for i in range(epochs):\n",
    "    accuracy_string, accuracies = calculate_accuracy(model, accuracies, current_train_data, current_train_labels)\n",
    "    _, accuracies_class = calculate_accuracy_class(model, accuracies_class, current_train_data, current_train_labels)\n",
    "    # calculate accuracy\n",
    "    \n",
    "    for j in range(0, len(current_train_data), batch_size):\n",
    "        optimiser.zero_grad()\n",
    "        images = current_train_data[j:j+batch_size]\n",
    "        labels = current_train_labels[j:j+batch_size]\n",
    "        \n",
    "        outputs = model(images)\n",
    "        loss = loss_function(outputs, labels)\n",
    "        if j == 0:\n",
    "            losses.append(loss.item())\n",
    "        loss.backward()\n",
    "        optimiser.step()\n",
    "    print(f\"Epoch {i+1}/{epochs}, \" + accuracy_string + f\"Loss: {losses[len(losses)-1]}\")\n",
    "    # accuracy greater than 80% we stop training\n",
    "    if accuracies[len(accuracies)-1] > 70:\n",
    "        break\n",
    "    \n",
    "_ , accuracies_class_test = calculate_accuracy_class(model, accuracies_class_test, current_test_data, current_test_labels)\n",
    "accuracy_string, _ = calculate_accuracy(model, accuracies, current_test_data, current_test_labels)\n",
    "\n",
    "# remove last element from accuracies\n",
    "accuracies.pop()\n",
    "\n",
    "# print all classes in accuracies_class_test\n",
    "for cls in CLASSES:\n",
    "    print(f\"Test accuracy for {cls}: {accuracies_class_test[cls]}\")\n"
   ]
  },
  {
   "cell_type": "code",
   "execution_count": null,
   "metadata": {},
   "outputs": [],
   "source": [
    "# plot the loss and accuracy\n",
    "# fix axes labels\n",
    "plt.plot(losses)\n",
    "plt.title('Loss')\n",
    "plt.show()\n",
    "\n",
    "for i in range(len(accuracies)):\n",
    "    print(f\"Accuracy at {i} : {accuracies[i]}\")\n",
    "\n",
    "for cls in CLASSES:\n",
    "    plt.plot(accuracies_class[cls], label=f'{cls}')\n",
    "\n",
    "plt.title('Train Set Accuracy over Epochs')\n",
    "plt.legend()\n",
    "plt.show()\n",
    "\n",
    "# plot the test set accuracy as a bar chart\n",
    "plt.bar(CLASSES, [accuracies_class_test[cls][0] for cls in CLASSES])\n",
    "plt.title('Test Set Accuracy for Each Class')\n",
    "plt.xlabel('Classes')\n",
    "plt.ylabel('Accuracy (%)')\n",
    "plt.show()\n",
    "for cls in CLASSES:\n",
    "    print(f\"Test accuracy for {cls}: {accuracies_class_test[cls]}\")\n",
    "    \n",
    "print(f\"Test accuracy on all 10 classes: {accuracy_string}\")\n",
    "    "
   ]
  }
 ],
 "metadata": {
  "kernelspec": {
   "display_name": "Python 3 (ipykernel)",
   "language": "python",
   "name": "python3"
  },
  "language_info": {
   "codemirror_mode": {
    "name": "ipython",
    "version": 3
   },
   "file_extension": ".py",
   "mimetype": "text/x-python",
   "name": "python",
   "nbconvert_exporter": "python",
   "pygments_lexer": "ipython3",
   "version": "3.9.20"
  }
 },
 "nbformat": 4,
 "nbformat_minor": 2
}
