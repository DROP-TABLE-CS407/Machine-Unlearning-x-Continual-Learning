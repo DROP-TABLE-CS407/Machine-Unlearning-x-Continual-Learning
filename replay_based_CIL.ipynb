{
 "cells": [
  {
   "cell_type": "markdown",
   "metadata": {},
   "source": [
    "# Replay based Class Incremental Learning (CIL) with PyTorch\n",
    "\n",
    "This notebook covers a simplified implementation of class incremental learning (CIL) using replay-based techniques. The goal of CIL is to learn a model that can incrementally learn new classes without forgetting the previously learned classes. In this notebook, we will use a replay-based technique to store and replay the data from the previous classes to prevent forgetting.\n",
    "\n",
    "To do this, we will use the following steps:\n",
    "Train base model on the first set of two classes e.g. 0 and 1 for 100 epochs utilising Stochastic Gradient Descent (SGD) with a learning rate of 0.01 and momentum of 0.9.\n",
    "After training our base model, we will then store a subset of our data from the first two classes in a replay buffer, let $R_i$ be the replay buffer for class $i$ and $D_i$ be the training data for class $i$ up to that training step inclusive of all previous classes.\n",
    "\n",
    "We denote: $R_i \\subseteq D_i$\n",
    "\n",
    "And: $D_i = \\cup_{x = 0}^{i}d_x$\n",
    "\n",
    "Where $d_x$ is the data for class $x$.\n",
    "\n",
    "i.e. the replay buffer will only contain a variant subset of the data from the previous classes as opposed to all the data of that class which\n",
    "we can change to determine the effect of the replay buffer size on the model's performance.\n",
    "\n",
    "From this point onwards, we will incrementally train our model utilising Class-Incremental Learning (CIL) by training on the class and replaying the data from the previous classes.\n",
    "\n",
    "This model will utilise a standard implementation of a ResNet18 CNN model with a single fully connected layer at the end to classify the images. It will also be trained on the CIFAR-10 dataset, which contains 60,000 32x32 colour images in 10 classes, with 6,000 images per class."
   ]
  },
  {
   "cell_type": "code",
   "execution_count": 45,
   "metadata": {},
   "outputs": [],
   "source": [
    "import torch\n",
    "import numpy as np\n",
    "import matplotlib.pyplot as plt\n",
    "from PIL import Image\n",
    "from torchvision import transforms\n",
    "import time\n",
    "from cifar import load_cifar10_data, split_into_classes, get_class_indexes \n",
    "from torch.utils.data import DataLoader\n",
    "\n",
    "# Path to the dataset\n",
    "DATASET_PATH = 'cifar-10-batches-py' \n",
    "CLASSES = ['airplane', 'automobile', 'bird', 'cat', 'deer', 'dog', 'frog', 'horse', 'ship', 'truck']\n"
   ]
  },
  {
   "cell_type": "markdown",
   "metadata": {},
   "source": [
    "### Define custom ResNet18 model for CIFAR10\n",
    "\n",
    "In this case we chance the convolution kernel to 3x3 and the stride to 1 for the first layer. We will also change the number of classes on the final softmax layer to 10 to match the CIFAR10 dataset."
   ]
  },
  {
   "cell_type": "code",
   "execution_count": 46,
   "metadata": {},
   "outputs": [
    {
     "name": "stdout",
     "output_type": "stream",
     "text": [
      "|| conv1 weight size:  torch.Size([64, 3, 7, 7])\n",
      "|| fc weight size:  torch.Size([1000, 512])\n"
     ]
    },
    {
     "name": "stderr",
     "output_type": "stream",
     "text": [
      "Using cache found in /dcs/21/u2145461/.cache/torch/hub/pytorch_vision_v0.10.0\n",
      "/local/java/python-ml/22-12-21-python3.9/lib64/python3.9/site-packages/torchvision/models/_utils.py:208: UserWarning: The parameter 'pretrained' is deprecated since 0.13 and may be removed in the future, please use 'weights' instead.\n",
      "  warnings.warn(\n",
      "/local/java/python-ml/22-12-21-python3.9/lib64/python3.9/site-packages/torchvision/models/_utils.py:223: UserWarning: Arguments other than a weight enum or `None` for 'weights' are deprecated since 0.13 and may be removed in the future. The current behavior is equivalent to passing `weights=None`.\n",
      "  warnings.warn(msg)\n"
     ]
    },
    {
     "data": {
      "text/plain": [
       "ResNet18CIFAR(\n",
       "  (resnet): ResNet(\n",
       "    (conv1): Conv2d(3, 64, kernel_size=(3, 3), stride=(1, 1), padding=(1, 1), bias=False)\n",
       "    (bn1): BatchNorm2d(64, eps=1e-05, momentum=0.1, affine=True, track_running_stats=True)\n",
       "    (relu): ReLU(inplace=True)\n",
       "    (maxpool): Identity()\n",
       "    (layer1): Sequential(\n",
       "      (0): BasicBlock(\n",
       "        (conv1): Conv2d(64, 64, kernel_size=(3, 3), stride=(1, 1), padding=(1, 1), bias=False)\n",
       "        (bn1): BatchNorm2d(64, eps=1e-05, momentum=0.1, affine=True, track_running_stats=True)\n",
       "        (relu): ReLU(inplace=True)\n",
       "        (conv2): Conv2d(64, 64, kernel_size=(3, 3), stride=(1, 1), padding=(1, 1), bias=False)\n",
       "        (bn2): BatchNorm2d(64, eps=1e-05, momentum=0.1, affine=True, track_running_stats=True)\n",
       "      )\n",
       "      (1): BasicBlock(\n",
       "        (conv1): Conv2d(64, 64, kernel_size=(3, 3), stride=(1, 1), padding=(1, 1), bias=False)\n",
       "        (bn1): BatchNorm2d(64, eps=1e-05, momentum=0.1, affine=True, track_running_stats=True)\n",
       "        (relu): ReLU(inplace=True)\n",
       "        (conv2): Conv2d(64, 64, kernel_size=(3, 3), stride=(1, 1), padding=(1, 1), bias=False)\n",
       "        (bn2): BatchNorm2d(64, eps=1e-05, momentum=0.1, affine=True, track_running_stats=True)\n",
       "      )\n",
       "    )\n",
       "    (layer2): Sequential(\n",
       "      (0): BasicBlock(\n",
       "        (conv1): Conv2d(64, 128, kernel_size=(3, 3), stride=(2, 2), padding=(1, 1), bias=False)\n",
       "        (bn1): BatchNorm2d(128, eps=1e-05, momentum=0.1, affine=True, track_running_stats=True)\n",
       "        (relu): ReLU(inplace=True)\n",
       "        (conv2): Conv2d(128, 128, kernel_size=(3, 3), stride=(1, 1), padding=(1, 1), bias=False)\n",
       "        (bn2): BatchNorm2d(128, eps=1e-05, momentum=0.1, affine=True, track_running_stats=True)\n",
       "        (downsample): Sequential(\n",
       "          (0): Conv2d(64, 128, kernel_size=(1, 1), stride=(2, 2), bias=False)\n",
       "          (1): BatchNorm2d(128, eps=1e-05, momentum=0.1, affine=True, track_running_stats=True)\n",
       "        )\n",
       "      )\n",
       "      (1): BasicBlock(\n",
       "        (conv1): Conv2d(128, 128, kernel_size=(3, 3), stride=(1, 1), padding=(1, 1), bias=False)\n",
       "        (bn1): BatchNorm2d(128, eps=1e-05, momentum=0.1, affine=True, track_running_stats=True)\n",
       "        (relu): ReLU(inplace=True)\n",
       "        (conv2): Conv2d(128, 128, kernel_size=(3, 3), stride=(1, 1), padding=(1, 1), bias=False)\n",
       "        (bn2): BatchNorm2d(128, eps=1e-05, momentum=0.1, affine=True, track_running_stats=True)\n",
       "      )\n",
       "    )\n",
       "    (layer3): Sequential(\n",
       "      (0): BasicBlock(\n",
       "        (conv1): Conv2d(128, 256, kernel_size=(3, 3), stride=(2, 2), padding=(1, 1), bias=False)\n",
       "        (bn1): BatchNorm2d(256, eps=1e-05, momentum=0.1, affine=True, track_running_stats=True)\n",
       "        (relu): ReLU(inplace=True)\n",
       "        (conv2): Conv2d(256, 256, kernel_size=(3, 3), stride=(1, 1), padding=(1, 1), bias=False)\n",
       "        (bn2): BatchNorm2d(256, eps=1e-05, momentum=0.1, affine=True, track_running_stats=True)\n",
       "        (downsample): Sequential(\n",
       "          (0): Conv2d(128, 256, kernel_size=(1, 1), stride=(2, 2), bias=False)\n",
       "          (1): BatchNorm2d(256, eps=1e-05, momentum=0.1, affine=True, track_running_stats=True)\n",
       "        )\n",
       "      )\n",
       "      (1): BasicBlock(\n",
       "        (conv1): Conv2d(256, 256, kernel_size=(3, 3), stride=(1, 1), padding=(1, 1), bias=False)\n",
       "        (bn1): BatchNorm2d(256, eps=1e-05, momentum=0.1, affine=True, track_running_stats=True)\n",
       "        (relu): ReLU(inplace=True)\n",
       "        (conv2): Conv2d(256, 256, kernel_size=(3, 3), stride=(1, 1), padding=(1, 1), bias=False)\n",
       "        (bn2): BatchNorm2d(256, eps=1e-05, momentum=0.1, affine=True, track_running_stats=True)\n",
       "      )\n",
       "    )\n",
       "    (layer4): Sequential(\n",
       "      (0): BasicBlock(\n",
       "        (conv1): Conv2d(256, 512, kernel_size=(3, 3), stride=(2, 2), padding=(1, 1), bias=False)\n",
       "        (bn1): BatchNorm2d(512, eps=1e-05, momentum=0.1, affine=True, track_running_stats=True)\n",
       "        (relu): ReLU(inplace=True)\n",
       "        (conv2): Conv2d(512, 512, kernel_size=(3, 3), stride=(1, 1), padding=(1, 1), bias=False)\n",
       "        (bn2): BatchNorm2d(512, eps=1e-05, momentum=0.1, affine=True, track_running_stats=True)\n",
       "        (downsample): Sequential(\n",
       "          (0): Conv2d(256, 512, kernel_size=(1, 1), stride=(2, 2), bias=False)\n",
       "          (1): BatchNorm2d(512, eps=1e-05, momentum=0.1, affine=True, track_running_stats=True)\n",
       "        )\n",
       "      )\n",
       "      (1): BasicBlock(\n",
       "        (conv1): Conv2d(512, 512, kernel_size=(3, 3), stride=(1, 1), padding=(1, 1), bias=False)\n",
       "        (bn1): BatchNorm2d(512, eps=1e-05, momentum=0.1, affine=True, track_running_stats=True)\n",
       "        (relu): ReLU(inplace=True)\n",
       "        (conv2): Conv2d(512, 512, kernel_size=(3, 3), stride=(1, 1), padding=(1, 1), bias=False)\n",
       "        (bn2): BatchNorm2d(512, eps=1e-05, momentum=0.1, affine=True, track_running_stats=True)\n",
       "      )\n",
       "    )\n",
       "    (avgpool): AdaptiveAvgPool2d(output_size=(1, 1))\n",
       "    (fc): Linear(in_features=512, out_features=10, bias=True)\n",
       "  )\n",
       ")"
      ]
     },
     "execution_count": 46,
     "metadata": {},
     "output_type": "execute_result"
    }
   ],
   "source": [
    "class ResNet18CIFAR(torch.nn.Module):\n",
    "    def __init__(self):\n",
    "        super(ResNet18CIFAR, self).__init__()\n",
    "        self.resnet = torch.hub.load('pytorch/vision:v0.10.0', 'resnet18', pretrained=False)\n",
    "        # change the first layer to accept 32x32 images with 3 channels rather than 224x224 images\n",
    "        # check the size of the input layer\n",
    "        print(\"|| conv1 weight size: \", self.resnet.conv1.weight.size())\n",
    "        print(\"|| fc weight size: \", self.resnet.fc.weight.size())\n",
    "        self.resnet.conv1 = torch.nn.Conv2d(3, 64, kernel_size=3, stride=1, padding=1, bias=False)\n",
    "        # change input layer to accept 32x32 images by utilising smaller convolutional kernel\n",
    "        self.resnet.fc = torch.nn.Linear(512, 10)\n",
    "        # the architecture is already built to support 10 classes\n",
    "        self.resnet.maxpool = torch.nn.Identity()\n",
    "        # maxpool worsens performance and is unnecessary for small image sizes\n",
    "        \n",
    "\n",
    "    def forward(self, x):\n",
    "        return self.resnet(x)\n",
    "    \n",
    "# make a resnet model\n",
    "model = ResNet18CIFAR()\n",
    "model.eval()"
   ]
  },
  {
   "cell_type": "markdown",
   "metadata": {},
   "source": [
    "### Data Load and Preprocessing into separate class datasets\n",
    "\n",
    "Utilise the CIFAR-10 dataset alongside a prebuilt dataloader to load the data into separate class datasets.\n",
    "(Krishi's code)"
   ]
  },
  {
   "cell_type": "code",
   "execution_count": 47,
   "metadata": {},
   "outputs": [],
   "source": [
    "train_data, train_labels, test_data, test_labels = load_cifar10_data(DATASET_PATH)\n",
    "classes = ['airplane', 'automobile', 'bird', 'cat', 'deer', 'dog', 'frog', 'horse', 'ship', 'truck']\n",
    "\n",
    "# split the data into 10 classes by doing sort by key where in the keys are the labels and the values are the data\n",
    "train_split = {cls: [] for cls in CLASSES}\n",
    "for img, label in zip(train_data, train_labels):\n",
    "    train_split[CLASSES[label]].append(img)\n",
    "    \n",
    "# this makes more sense to me, effectively indexes 0-5000 are all airplanes, 5000-10000 are all automobiles etc\n",
    "test_split = {cls: [] for cls in CLASSES}\n",
    "for img, label in zip(test_data, test_labels):\n",
    "    test_split[CLASSES[label]].append(img)"
   ]
  },
  {
   "cell_type": "markdown",
   "metadata": {},
   "source": [
    "\n",
    "# The Algorithm\n",
    "\n",
    "Train initial model on the first two classes.\n",
    "\n",
    "For each class $i$ in the dataset:\n",
    "\n",
    "1. Train the model on the current class $i$ and replay the data from the previous classes.\n",
    "\n",
    "2. Store a subset of the data from the current class $i$ in the replay buffer $R_i$.\n",
    "\n",
    "3. Evaluate the model on the test set.\n",
    "\n",
    "4. Increment the number of classes seen.\n",
    "\n",
    "5. Repeat steps 1-4 for each class in the dataset.\n",
    "\n",
    "Note: the size of the replay buffer is a hyperparameter that can be tuned to determine the effect of the replay buffer size on the model's performance.\n",
    "\n",
    "The following hyperparameters will be used in this notebook:\n",
    "\n",
    "- Epochs: 100 (per class)\n",
    "- Learning rate: 0.00005\n",
    "- Momentum: 0.9 (if using SGD)\n",
    "- Batch size: 512\n",
    "- Replay buffer size: Variant (e.g. 2000, 4000, 6000, 8000, 10000 per class)\n",
    "\n",
    "### References\n",
    "\n",
    "1. [Continual Learning with Deep Architectures: A Review](https://arxiv.org/abs/1907.04471)\n",
    "\n",
    "2. [RECALL Replay Based Continual Learning in Semantic Segmentation](https://openaccess.thecvf.com/content/ICCV2021/papers/Maracani_RECALL_Replay-Based_Continual_Learning_in_Semantic_Segmentation_ICCV_2021_paper.pdf)"
   ]
  },
  {
   "cell_type": "code",
   "execution_count": 48,
   "metadata": {},
   "outputs": [],
   "source": [
    "def calculate_accuracy(model, accuracies, train_data, train_labels):\n",
    "        # calculate accuracy\n",
    "        correct = [0] * 10\n",
    "        total = len(train_split['airplane'])\n",
    "        batch_size = 64\n",
    "        with torch.no_grad():\n",
    "            for j in range(0, len(train_data), batch_size):\n",
    "                image = train_data[j:j+batch_size]\n",
    "                labels = train_labels[j:j+batch_size]\n",
    "                outputs = model(image)\n",
    "                _, predicted = torch.max(outputs.data, 1)\n",
    "                for i in range(10):  \n",
    "                    correct[i] += (predicted[labels == i] == labels[labels == i]).sum().item()\n",
    "        \n",
    "        j = 0\n",
    "        accuracy_string = \"Accuracy: \"\n",
    "        for classes in accuracies:\n",
    "             accuracies[classes].append(correct[j]/total * 100)\n",
    "             accuracy_string += (f\"\" + classes + f\": {correct[j]/total * 100:.2f}%, \")\n",
    "             j += 1\n",
    "\n",
    "        return accuracy_string, accuracies"
   ]
  },
  {
   "cell_type": "code",
   "execution_count": null,
   "metadata": {},
   "outputs": [
    {
     "name": "stdout",
     "output_type": "stream",
     "text": [
      "Epoch 1/100, Loss: 402.61, Accuracy: airplane: 100.00%, automobile: 0.00%, bird: 0.00%, cat: 0.00%, deer: 0.00%, dog: 0.00%, frog: 0.00%, horse: 0.00%, ship: 0.00%, truck: 0.00%, \n",
      "Epoch 2/100, Loss: 799.68, Accuracy: airplane: 0.00%, automobile: 100.00%, bird: 0.00%, cat: 0.00%, deer: 0.00%, dog: 0.00%, frog: 0.00%, horse: 0.00%, ship: 0.00%, truck: 0.00%, \n",
      "Epoch 3/100, Loss: 32.94, Accuracy: airplane: 0.00%, automobile: 100.00%, bird: 0.00%, cat: 0.00%, deer: 0.00%, dog: 0.00%, frog: 0.00%, horse: 0.00%, ship: 0.00%, truck: 0.00%, \n",
      "Epoch 4/100, Loss: 7.95, Accuracy: airplane: 0.00%, automobile: 100.00%, bird: 0.00%, cat: 0.00%, deer: 0.00%, dog: 0.00%, frog: 0.00%, horse: 0.00%, ship: 0.00%, truck: 0.00%, \n",
      "Epoch 5/100, Loss: 3.90, Accuracy: airplane: 0.08%, automobile: 100.00%, bird: 0.00%, cat: 0.00%, deer: 0.00%, dog: 0.00%, frog: 0.00%, horse: 0.00%, ship: 0.00%, truck: 0.00%, \n",
      "Epoch 6/100, Loss: 1.17, Accuracy: airplane: 29.96%, automobile: 98.36%, bird: 0.00%, cat: 0.00%, deer: 0.00%, dog: 0.00%, frog: 0.00%, horse: 0.00%, ship: 0.00%, truck: 0.00%, \n",
      "Epoch 7/100, Loss: 0.98, Accuracy: airplane: 47.78%, automobile: 97.40%, bird: 0.00%, cat: 0.00%, deer: 0.00%, dog: 0.00%, frog: 0.00%, horse: 0.00%, ship: 0.00%, truck: 0.00%, \n",
      "Epoch 8/100, Loss: 0.90, Accuracy: airplane: 52.10%, automobile: 97.16%, bird: 0.00%, cat: 0.00%, deer: 0.00%, dog: 0.00%, frog: 0.00%, horse: 0.00%, ship: 0.00%, truck: 0.00%, \n",
      "Epoch 9/100, Loss: 0.96, Accuracy: airplane: 49.42%, automobile: 98.00%, bird: 0.00%, cat: 0.00%, deer: 0.00%, dog: 0.00%, frog: 0.00%, horse: 0.00%, ship: 0.00%, truck: 0.00%, \n",
      "Epoch 10/100, Loss: 0.94, Accuracy: airplane: 49.66%, automobile: 98.20%, bird: 0.00%, cat: 0.00%, deer: 0.00%, dog: 0.00%, frog: 0.00%, horse: 0.00%, ship: 0.00%, truck: 0.00%, \n",
      "Epoch 11/100, Loss: 0.90, Accuracy: airplane: 50.88%, automobile: 98.20%, bird: 0.00%, cat: 0.00%, deer: 0.00%, dog: 0.00%, frog: 0.00%, horse: 0.00%, ship: 0.00%, truck: 0.00%, \n",
      "Epoch 12/100, Loss: 0.87, Accuracy: airplane: 51.84%, automobile: 98.32%, bird: 0.00%, cat: 0.00%, deer: 0.00%, dog: 0.00%, frog: 0.00%, horse: 0.00%, ship: 0.00%, truck: 0.00%, \n",
      "Epoch 13/100, Loss: 0.85, Accuracy: airplane: 52.92%, automobile: 98.38%, bird: 0.00%, cat: 0.00%, deer: 0.00%, dog: 0.00%, frog: 0.00%, horse: 0.00%, ship: 0.00%, truck: 0.00%, \n",
      "Epoch 14/100, Loss: 0.82, Accuracy: airplane: 54.10%, automobile: 98.34%, bird: 0.00%, cat: 0.00%, deer: 0.00%, dog: 0.00%, frog: 0.00%, horse: 0.00%, ship: 0.00%, truck: 0.00%, \n",
      "Epoch 15/100, Loss: 0.79, Accuracy: airplane: 55.28%, automobile: 98.24%, bird: 0.00%, cat: 0.00%, deer: 0.00%, dog: 0.00%, frog: 0.00%, horse: 0.00%, ship: 0.00%, truck: 0.00%, \n",
      "Epoch 16/100, Loss: 0.77, Accuracy: airplane: 56.48%, automobile: 98.22%, bird: 0.00%, cat: 0.00%, deer: 0.00%, dog: 0.00%, frog: 0.00%, horse: 0.00%, ship: 0.00%, truck: 0.00%, \n",
      "Epoch 17/100, Loss: 0.74, Accuracy: airplane: 57.50%, automobile: 98.26%, bird: 0.00%, cat: 0.00%, deer: 0.00%, dog: 0.00%, frog: 0.00%, horse: 0.00%, ship: 0.00%, truck: 0.00%, \n",
      "Epoch 18/100, Loss: 0.72, Accuracy: airplane: 58.28%, automobile: 98.30%, bird: 0.00%, cat: 0.00%, deer: 0.00%, dog: 0.00%, frog: 0.00%, horse: 0.00%, ship: 0.00%, truck: 0.00%, \n",
      "Epoch 19/100, Loss: 0.70, Accuracy: airplane: 59.32%, automobile: 98.30%, bird: 0.00%, cat: 0.00%, deer: 0.00%, dog: 0.00%, frog: 0.00%, horse: 0.00%, ship: 0.00%, truck: 0.00%, \n",
      "Epoch 20/100, Loss: 0.69, Accuracy: airplane: 60.06%, automobile: 98.24%, bird: 0.00%, cat: 0.00%, deer: 0.00%, dog: 0.00%, frog: 0.00%, horse: 0.00%, ship: 0.00%, truck: 0.00%, \n",
      "Epoch 21/100, Loss: 0.66, Accuracy: airplane: 60.92%, automobile: 98.24%, bird: 0.00%, cat: 0.00%, deer: 0.00%, dog: 0.00%, frog: 0.00%, horse: 0.00%, ship: 0.00%, truck: 0.00%, \n",
      "Epoch 22/100, Loss: 0.65, Accuracy: airplane: 61.68%, automobile: 98.28%, bird: 0.00%, cat: 0.00%, deer: 0.00%, dog: 0.00%, frog: 0.00%, horse: 0.00%, ship: 0.00%, truck: 0.00%, \n",
      "Epoch 23/100, Loss: 0.63, Accuracy: airplane: 62.46%, automobile: 98.32%, bird: 0.00%, cat: 0.00%, deer: 0.00%, dog: 0.00%, frog: 0.00%, horse: 0.00%, ship: 0.00%, truck: 0.00%, \n",
      "Epoch 24/100, Loss: 0.61, Accuracy: airplane: 63.24%, automobile: 98.30%, bird: 0.00%, cat: 0.00%, deer: 0.00%, dog: 0.00%, frog: 0.00%, horse: 0.00%, ship: 0.00%, truck: 0.00%, \n",
      "Epoch 25/100, Loss: 0.60, Accuracy: airplane: 63.62%, automobile: 98.32%, bird: 0.00%, cat: 0.00%, deer: 0.00%, dog: 0.00%, frog: 0.00%, horse: 0.00%, ship: 0.00%, truck: 0.00%, \n",
      "Epoch 26/100, Loss: 0.58, Accuracy: airplane: 64.24%, automobile: 98.38%, bird: 0.00%, cat: 0.00%, deer: 0.00%, dog: 0.00%, frog: 0.00%, horse: 0.00%, ship: 0.00%, truck: 0.00%, \n",
      "Epoch 27/100, Loss: 0.57, Accuracy: airplane: 65.20%, automobile: 98.32%, bird: 0.00%, cat: 0.00%, deer: 0.00%, dog: 0.00%, frog: 0.00%, horse: 0.00%, ship: 0.00%, truck: 0.00%, \n",
      "Epoch 28/100, Loss: 0.55, Accuracy: airplane: 65.90%, automobile: 98.36%, bird: 0.00%, cat: 0.00%, deer: 0.00%, dog: 0.00%, frog: 0.00%, horse: 0.00%, ship: 0.00%, truck: 0.00%, \n",
      "Epoch 29/100, Loss: 0.54, Accuracy: airplane: 66.48%, automobile: 98.34%, bird: 0.00%, cat: 0.00%, deer: 0.00%, dog: 0.00%, frog: 0.00%, horse: 0.00%, ship: 0.00%, truck: 0.00%, \n",
      "Epoch 30/100, Loss: 0.53, Accuracy: airplane: 66.98%, automobile: 98.40%, bird: 0.00%, cat: 0.00%, deer: 0.00%, dog: 0.00%, frog: 0.00%, horse: 0.00%, ship: 0.00%, truck: 0.00%, \n",
      "Epoch 31/100, Loss: 0.51, Accuracy: airplane: 67.62%, automobile: 98.40%, bird: 0.00%, cat: 0.00%, deer: 0.00%, dog: 0.00%, frog: 0.00%, horse: 0.00%, ship: 0.00%, truck: 0.00%, \n",
      "Epoch 32/100, Loss: 0.50, Accuracy: airplane: 67.96%, automobile: 98.38%, bird: 0.00%, cat: 0.00%, deer: 0.00%, dog: 0.00%, frog: 0.00%, horse: 0.00%, ship: 0.00%, truck: 0.00%, \n",
      "Epoch 33/100, Loss: 0.49, Accuracy: airplane: 68.54%, automobile: 98.40%, bird: 0.00%, cat: 0.00%, deer: 0.00%, dog: 0.00%, frog: 0.00%, horse: 0.00%, ship: 0.00%, truck: 0.00%, \n",
      "Epoch 34/100, Loss: 0.48, Accuracy: airplane: 69.00%, automobile: 98.40%, bird: 0.00%, cat: 0.00%, deer: 0.00%, dog: 0.00%, frog: 0.00%, horse: 0.00%, ship: 0.00%, truck: 0.00%, \n",
      "Epoch 35/100, Loss: 0.47, Accuracy: airplane: 69.44%, automobile: 98.44%, bird: 0.00%, cat: 0.00%, deer: 0.00%, dog: 0.00%, frog: 0.00%, horse: 0.00%, ship: 0.00%, truck: 0.00%, \n",
      "Epoch 36/100, Loss: 0.46, Accuracy: airplane: 70.12%, automobile: 98.46%, bird: 0.00%, cat: 0.00%, deer: 0.00%, dog: 0.00%, frog: 0.00%, horse: 0.00%, ship: 0.00%, truck: 0.00%, \n",
      "Epoch 37/100, Loss: 0.45, Accuracy: airplane: 70.58%, automobile: 98.52%, bird: 0.00%, cat: 0.00%, deer: 0.00%, dog: 0.00%, frog: 0.00%, horse: 0.00%, ship: 0.00%, truck: 0.00%, \n",
      "Epoch 38/100, Loss: 0.44, Accuracy: airplane: 71.34%, automobile: 98.52%, bird: 0.00%, cat: 0.00%, deer: 0.00%, dog: 0.00%, frog: 0.00%, horse: 0.00%, ship: 0.00%, truck: 0.00%, \n"
     ]
    }
   ],
   "source": [
    "replay_memory = {cls: [] for cls in CLASSES}\n",
    "accuracies = {cls: [] for cls in CLASSES}\n",
    "learning_rate = 0.00005\n",
    "momentum = 0.9\n",
    "batch_size = 512\n",
    "epochs = 100\n",
    "loss_function = torch.nn.CrossEntropyLoss()\n",
    "# output is softmax gaussian probability distribution, so cross entropy loss is appropriate\n",
    "optimiser = torch.optim.Adam(model.parameters(), lr=learning_rate)\n",
    "losses = []\n",
    "\n",
    "\n",
    "# firstly, train on airplanes and automobiles for 100 epochs utilising Adam\n",
    "current_train_data = train_split['airplane'] + train_split['automobile']\n",
    "current_train_labels = [0] * len(train_split['airplane']) + [1] * len(train_split['automobile'])\n",
    "\n",
    "# convert to tensors\n",
    "current_train_data = torch.tensor(current_train_data).float()\n",
    "current_train_labels = torch.tensor(current_train_labels)\n",
    "\n",
    "train_data = torch.tensor(train_data).float()\n",
    "train_labels = torch.tensor(train_labels)\n",
    "\n",
    "if torch.cuda.is_available():\n",
    "    model = model.cuda()\n",
    "    current_train_data = current_train_data.cuda()\n",
    "    current_train_labels = current_train_labels.cuda()\n",
    "    train_data = train_data.cuda()\n",
    "    train_labels = train_labels.cuda()\n",
    "\n",
    "# we have figured out CUDA for jupyter notebooks :)\n",
    "for i in range(epochs):\n",
    "    for j in range(0, len(current_train_data), batch_size):\n",
    "        optimiser.zero_grad()\n",
    "        images = current_train_data[j:j+batch_size]\n",
    "        labels = current_train_labels[j:j+batch_size]\n",
    "        \n",
    "        outputs = model(images)\n",
    "        loss = loss_function(outputs, labels)\n",
    "        loss.backward()\n",
    "        optimiser.step()\n",
    "        if (j == 0):\n",
    "            losses.append(loss.item())\n",
    "            accuracy_string, accuracies = calculate_accuracy(model, accuracies, train_data, train_labels)\n",
    "            # calculate accuracy\n",
    "            print(f\"Epoch {i+1}/{epochs}, Loss: {loss.item():.2f}, \" + accuracy_string)"
   ]
  },
  {
   "cell_type": "markdown",
   "metadata": {},
   "source": [
    "### Initial Results for two classes"
   ]
  },
  {
   "cell_type": "code",
   "execution_count": null,
   "metadata": {},
   "outputs": [
    {
     "data": {
      "image/png": "[encoded data removed]",
      "text/plain": [
       "<Figure size 640x480 with 1 Axes>"
      ]
     },
     "metadata": {},
     "output_type": "display_data"
    },
    {
     "data": {
      "image/png": "[encoded data removed]",
      "text/plain": [
       "<Figure size 640x480 with 1 Axes>"
      ]
     },
     "metadata": {},
     "output_type": "display_data"
    }
   ],
   "source": [
    "# plot the loss and accuracy\n",
    "# fix axes labels\n",
    "plt.plot(losses)\n",
    "plt.title('Loss')\n",
    "plt.show()\n",
    "\n",
    "# show airplane and automobile accuracies\n",
    "for classes in accuracies:\n",
    "    plt.plot(accuracies[classes], label=classes)\n",
    "plt.title('Train Set Accuracy')\n",
    "plt.legend()\n",
    "plt.show()"
   ]
  },
  {
   "cell_type": "markdown",
   "metadata": {},
   "source": [
    "## Now let's take the model and try to train it to identify birds!\n",
    "\n",
    "For the first test we just assume that the replay buffer is just the all the data from the previous classes.\n",
    "(we will adjust this later)\n",
    "\n",
    "In fact, start off by just training the model on only birds to see the effects of catastrophic forgetting and how this can be mitigated."
   ]
  },
  {
   "cell_type": "code",
   "execution_count": null,
   "metadata": {},
   "outputs": [
    {
     "data": {
      "text/plain": [
       "'\\ncurrent_train_data = train_split[\\'airplane\\'] + train_split[\\'automobile\\'] + train_split[\\'bird\\']\\ncurrent_train_labels = [0] * len(train_split[\\'airplane\\']) + [1] * len(train_split[\\'automobile\\']) + [2] * len(train_split[\\'bird\\'])\\n\\n# fill bird accuracies with 0s for the first 100 epochs\\nbird_accuracies = []\\nfor i in range(100):\\n    bird_accuracies.append(0)\\n\\ncurrent_train_data = torch.tensor(current_train_data).float()\\ncurrent_train_labels = torch.tensor(current_train_labels)\\n\\nif torch.cuda.is_available():\\n    model = model.cuda()\\n    current_train_data = current_train_data.cuda()\\n    current_train_labels = current_train_labels.cuda()\\n\\nfor i in range(epochs):\\n    for j in range(len(train_split[\\'airplane\\']) + len(train_split[\\'automobile\\']), len(current_train_data), batch_size):\\n        optimiser.zero_grad()\\n        images = current_train_data[j:j+batch_size]\\n        labels = current_train_labels[j:j+batch_size]\\n        \\n        outputs = model(images)\\n        loss = loss_function(outputs, labels)\\n        loss.backward()\\n        optimiser.step()\\n        if (j == len(train_split[\\'airplane\\']) + len(train_split[\\'automobile\\'])):\\n            losses.append(loss.item())\\n            # calculate accuracy\\n            correct_airplanes = 0\\n            correct_automobiles = 0\\n            correct_birds = 0\\n            total_airplanes = len(train_split[\\'airplane\\'])\\n            total_automobiles = len(train_split[\\'automobile\\'])\\n            total_birds = len(train_split[\\'bird\\'])\\n            with torch.no_grad():\\n                image = current_train_data[0:len(current_train_data)]\\n                labels = current_train_labels[0:len(current_train_labels)]\\n                outputs = model(image)\\n                _, predicted = torch.max(outputs.data, 1)\\n                correct_airplanes += (predicted[labels == 0] == labels[labels == 0]).sum().item()\\n                correct_automobiles += (predicted[labels == 1] == labels[labels == 1]).sum().item()\\n                correct_birds += (predicted[labels == 2] == labels[labels == 2]).sum().item()\\n                \\n            airplane_accuracies.append(correct_airplanes/total_airplanes * 100)\\n            automobile_accuracies.append(correct_automobiles/total_automobiles * 100)\\n            bird_accuracies.append(correct_birds/total_birds * 100)\\n            print(f\"Epoch {i+1}/{epochs}, Loss: {loss.item():.2f}, Accuracy: Airplanes: {correct_airplanes/total_airplanes * 100:.2f}% Automobiles: {correct_automobiles/total_automobiles * 100:.2f}% Birds: {correct_birds/total_birds * 100:.2f}%\")\\n'"
      ]
     },
     "execution_count": 43,
     "metadata": {},
     "output_type": "execute_result"
    }
   ],
   "source": [
    "\n",
    "current_train_data = train_split['airplane'] + train_split['automobile'] + train_split['bird']\n",
    "current_train_labels = [0] * len(train_split['airplane']) + [1] * len(train_split['automobile']) + [2] * len(train_split['bird'])\n",
    "\n",
    "current_train_data = torch.tensor(current_train_data).float()\n",
    "current_train_labels = torch.tensor(current_train_labels)\n",
    "\n",
    "if torch.cuda.is_available():\n",
    "    model = model.cuda()\n",
    "    current_train_data = current_train_data.cuda()\n",
    "    current_train_labels = current_train_labels.cuda()\n",
    "\n",
    "for i in range(epochs):\n",
    "    for j in range(len(train_split['airplane']) + len(train_split['automobile']), len(current_train_data), batch_size):\n",
    "        optimiser.zero_grad()\n",
    "        images = current_train_data[j:j+batch_size]\n",
    "        labels = current_train_labels[j:j+batch_size]\n",
    "        \n",
    "        outputs = model(images)\n",
    "        loss = loss_function(outputs, labels)\n",
    "        loss.backward()\n",
    "        optimiser.step()\n",
    "        if (j == len(train_split['airplane']) + len(train_split['automobile'])):\n",
    "            losses.append(loss.item())\n",
    "            # calculate accuracy\n",
    "            accuracy_string, accuracies = calculate_accuracy(model, accuracies, train_data, train_labels)\n",
    "            print(f\"Epoch {i+1}/{epochs}, Loss: {loss.item():.2f}, \" + accuracy_string)\n"
   ]
  },
  {
   "cell_type": "markdown",
   "metadata": {},
   "source": [
    "### Results for three classes: Catastrophic Forgetting\n",
    "\n",
    "Notice we suffer from catastrophic forgetting when not taking into account a replay set. The model is unable to learn the new class without forgetting the previous classes."
   ]
  },
  {
   "cell_type": "code",
   "execution_count": null,
   "metadata": {},
   "outputs": [
    {
     "data": {
      "text/plain": [
       "\"\\n# plot the loss and accuracy\\n# fix axes labels\\nplt.plot(losses)\\nplt.title('Loss')\\nplt.show()\\n\\n# show airplane and automobile accuracies\\nplt.plot(airplane_accuracies, label='Airplane')\\nplt.plot(automobile_accuracies, label='Automobile')\\nplt.plot(bird_accuracies, label='Bird')\\nplt.title('Accuracy')\\nplt.legend()\\nplt.show()\\n\""
      ]
     },
     "execution_count": 44,
     "metadata": {},
     "output_type": "execute_result"
    }
   ],
   "source": [
    "# plot the loss and accuracy\n",
    "# fix axes labels\n",
    "plt.plot(losses)\n",
    "plt.title('Loss')\n",
    "plt.show()\n",
    "\n",
    "# show airplane and automobile accuracies\n",
    "for classes in accuracies:\n",
    "    plt.plot(accuracies[classes], label=classes)\n",
    "plt.title('Train Set Accuracy')\n",
    "plt.legend()\n",
    "plt.show()"
   ]
  }
 ],
 "metadata": {
  "kernelspec": {
   "display_name": "Python 3 (ipykernel)",
   "language": "python",
   "name": "python3"
  },
  "language_info": {
   "codemirror_mode": {
    "name": "ipython",
    "version": 3
   },
   "file_extension": ".py",
   "mimetype": "text/x-python",
   "name": "python",
   "nbconvert_exporter": "python",
   "pygments_lexer": "ipython3",
   "version": "3.9.20"
  }
 },
 "nbformat": 4,
 "nbformat_minor": 2
}
