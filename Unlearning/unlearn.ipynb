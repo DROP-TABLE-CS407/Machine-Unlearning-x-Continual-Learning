{
 "cells": [
  {
   "cell_type": "code",
   "execution_count": 2,
   "id": "f3e8eb68",
   "metadata": {},
   "outputs": [
    {
     "name": "stdout",
     "output_type": "stream",
     "text": [
      "/dcs/21/u2110391/CS407/Machine-Unlearning-x-Continual-Learning\n",
      "/dcs/21/u2110391/CS407/Machine-Unlearning-x-Continual-Learning\n"
     ]
    },
    {
     "name": "stderr",
     "output_type": "stream",
     "text": [
      "/dcs/21/u2110391/CS407/Machine-Unlearning-x-Continual-Learning/.venv/lib64/python3.9/site-packages/IPython/core/magics/osm.py:417: UserWarning: using dhist requires you to install the `pickleshare` library.\n",
      "  self.shell.db['dhist'] = compress_dhist(dhist)[-100:]\n"
     ]
    }
   ],
   "source": [
    "%cd ..\n",
    "!pwd"
   ]
  },
  {
   "cell_type": "markdown",
   "id": "b50571c4",
   "metadata": {},
   "source": []
  },
  {
   "cell_type": "code",
   "execution_count": 3,
   "id": "initial_id",
   "metadata": {},
   "outputs": [
    {
     "data": {
      "image/png": "[encoded data removed]",
      "text/plain": [
       "<Figure size 640x480 with 1 Axes>"
      ]
     },
     "metadata": {},
     "output_type": "display_data"
    }
   ],
   "source": [
    "import torch\n",
    "import numpy as np\n",
    "import matplotlib.pyplot as plt\n",
    "from PIL import Image\n",
    "from torchvision import transforms\n",
    "import time\n",
    "from cifar import load_cifar10_data, split_into_classes, get_class_indexes \n",
    "from torch.utils.data import DataLoader\n",
    "import random\n",
    "import os\n",
    "import sys\n",
    "sys.path.append(os.path.abspath(\".\"))  # Adds the current directory\n",
    "# from GEM.gem import *\n",
    "from GEM.args import *\n",
    "from torch.nn.functional import relu, avg_pool2d\n",
    "import torch.nn as nn\n",
    "import quadprog"
   ]
  },
  {
   "cell_type": "markdown",
   "id": "6360b5c4aaa0b84a",
   "metadata": {},
   "source": [
    "# CIFAR-10"
   ]
  },
  {
   "cell_type": "code",
   "execution_count": 4,
   "id": "545fa36453e0dda4",
   "metadata": {
    "ExecuteTime": {
     "end_time": "2024-11-13T15:16:56.387836Z",
     "start_time": "2024-11-13T15:16:56.266657Z"
    }
   },
   "outputs": [],
   "source": [
    "# Path to the dataset\n",
    "DATASET_PATH = 'cifar-10-batches-py' \n",
    "CLASSES = ['airplane', 'automobile', 'bird', 'cat', 'deer', 'dog', 'frog', 'horse', 'ship', 'truck']\n",
    "\n",
    "train_data, train_labels, test_data, test_labels = load_cifar10_data(DATASET_PATH)\n",
    "classes = ['airplane', 'automobile', 'bird', 'cat', 'deer', 'dog', 'frog', 'horse', 'ship', 'truck']\n",
    "\n",
    "# split the data into 10 classes by doing sort by key where in the keys are the labels and the values are the data\n",
    "train_split = {cls: [] for cls in CLASSES}\n",
    "for img, label in zip(train_data, train_labels):\n",
    "    train_split[CLASSES[label]].append(img)\n",
    "    \n",
    "# this makes more sense to me, effectively indexes 0-5000 are all airplanes, 5000-10000 are all automobiles etc\n",
    "test_split = {cls: [] for cls in CLASSES}\n",
    "for img, label in zip(test_data, test_labels):\n",
    "    test_split[CLASSES[label]].append(img)"
   ]
  },
  {
   "cell_type": "markdown",
   "id": "b849681c0f0bdd16",
   "metadata": {},
   "source": [
    "# PRETRAINED MODEL"
   ]
  },
  {
   "cell_type": "code",
   "execution_count": 5,
   "id": "b345dbfb",
   "metadata": {},
   "outputs": [],
   "source": [
    "import torch\n",
    "import numpy as np\n",
    "import matplotlib.pyplot as plt\n",
    "from PIL import Image\n",
    "from torchvision import transforms\n",
    "import time\n",
    "# make cuda available if available\n",
    "\n",
    "from cifar import load_cifar10_data, show_image\n",
    "\n",
    "# we want to create a resnet 18 model for 32x32 images\n",
    "# avoid upscaling, the model will take 32x32 images on input as opposed to 224x224\n",
    "\n",
    "initialisation = time.time()\n",
    "\n",
    "class ResNet18CIFAR(torch.nn.Module):\n",
    "    def __init__(self):\n",
    "        super(ResNet18CIFAR, self).__init__()\n",
    "        self.resnet = torch.hub.load('pytorch/vision:v0.10.0', 'resnet18', pretrained=False)\n",
    "        # change the first layer to accept 32x32 images with 3 channels rather than 224x224 images\n",
    "        # check the size of the input layer\n",
    "        print(\"|| conv1 weight size: \", self.resnet.conv1.weight.size())\n",
    "        print(\"|| fc weight size: \", self.resnet.fc.weight.size())\n",
    "        self.resnet.conv1 = torch.nn.Conv2d(3, 64, kernel_size=3, stride=1, padding=1, bias=False)\n",
    "        self.resnet.fc = torch.nn.Linear(512, 10)\n",
    "        self.resnet.maxpool = torch.nn.Identity()\n",
    "        # change input layer to accept 32x32 images\n",
    "\n",
    "\n",
    "        \n",
    "        # List all layers in the resnet18 model\n",
    "        for name, layer in self.resnet.named_children():\n",
    "            print(f\"Layer: {name} -> {layer}\")\n",
    "        \n",
    "        #print(\"|| conv1 weight size: \", self.resnet.conv1.weight.size())\n",
    "        #print(\"|| fc weight size: \", self.resnet.fc.weight.size())\n",
    "\n",
    "    def forward(self, x):\n",
    "        return self.resnet(x)"
   ]
  },
  {
   "cell_type": "code",
   "execution_count": 6,
   "id": "5b7e1518a20b7df4",
   "metadata": {},
   "outputs": [
    {
     "data": {
      "text/plain": [
       "ResNet18CIFAR(\n",
       "  (resnet): ResNet(\n",
       "    (conv1): Conv2d(3, 64, kernel_size=(3, 3), stride=(1, 1), padding=(1, 1), bias=False)\n",
       "    (bn1): BatchNorm2d(64, eps=1e-05, momentum=0.1, affine=True, track_running_stats=True)\n",
       "    (relu): ReLU(inplace=True)\n",
       "    (maxpool): Identity()\n",
       "    (layer1): Sequential(\n",
       "      (0): BasicBlock(\n",
       "        (conv1): Conv2d(64, 64, kernel_size=(3, 3), stride=(1, 1), padding=(1, 1), bias=False)\n",
       "        (bn1): BatchNorm2d(64, eps=1e-05, momentum=0.1, affine=True, track_running_stats=True)\n",
       "        (relu): ReLU(inplace=True)\n",
       "        (conv2): Conv2d(64, 64, kernel_size=(3, 3), stride=(1, 1), padding=(1, 1), bias=False)\n",
       "        (bn2): BatchNorm2d(64, eps=1e-05, momentum=0.1, affine=True, track_running_stats=True)\n",
       "      )\n",
       "      (1): BasicBlock(\n",
       "        (conv1): Conv2d(64, 64, kernel_size=(3, 3), stride=(1, 1), padding=(1, 1), bias=False)\n",
       "        (bn1): BatchNorm2d(64, eps=1e-05, momentum=0.1, affine=True, track_running_stats=True)\n",
       "        (relu): ReLU(inplace=True)\n",
       "        (conv2): Conv2d(64, 64, kernel_size=(3, 3), stride=(1, 1), padding=(1, 1), bias=False)\n",
       "        (bn2): BatchNorm2d(64, eps=1e-05, momentum=0.1, affine=True, track_running_stats=True)\n",
       "      )\n",
       "    )\n",
       "    (layer2): Sequential(\n",
       "      (0): BasicBlock(\n",
       "        (conv1): Conv2d(64, 128, kernel_size=(3, 3), stride=(2, 2), padding=(1, 1), bias=False)\n",
       "        (bn1): BatchNorm2d(128, eps=1e-05, momentum=0.1, affine=True, track_running_stats=True)\n",
       "        (relu): ReLU(inplace=True)\n",
       "        (conv2): Conv2d(128, 128, kernel_size=(3, 3), stride=(1, 1), padding=(1, 1), bias=False)\n",
       "        (bn2): BatchNorm2d(128, eps=1e-05, momentum=0.1, affine=True, track_running_stats=True)\n",
       "        (downsample): Sequential(\n",
       "          (0): Conv2d(64, 128, kernel_size=(1, 1), stride=(2, 2), bias=False)\n",
       "          (1): BatchNorm2d(128, eps=1e-05, momentum=0.1, affine=True, track_running_stats=True)\n",
       "        )\n",
       "      )\n",
       "      (1): BasicBlock(\n",
       "        (conv1): Conv2d(128, 128, kernel_size=(3, 3), stride=(1, 1), padding=(1, 1), bias=False)\n",
       "        (bn1): BatchNorm2d(128, eps=1e-05, momentum=0.1, affine=True, track_running_stats=True)\n",
       "        (relu): ReLU(inplace=True)\n",
       "        (conv2): Conv2d(128, 128, kernel_size=(3, 3), stride=(1, 1), padding=(1, 1), bias=False)\n",
       "        (bn2): BatchNorm2d(128, eps=1e-05, momentum=0.1, affine=True, track_running_stats=True)\n",
       "      )\n",
       "    )\n",
       "    (layer3): Sequential(\n",
       "      (0): BasicBlock(\n",
       "        (conv1): Conv2d(128, 256, kernel_size=(3, 3), stride=(2, 2), padding=(1, 1), bias=False)\n",
       "        (bn1): BatchNorm2d(256, eps=1e-05, momentum=0.1, affine=True, track_running_stats=True)\n",
       "        (relu): ReLU(inplace=True)\n",
       "        (conv2): Conv2d(256, 256, kernel_size=(3, 3), stride=(1, 1), padding=(1, 1), bias=False)\n",
       "        (bn2): BatchNorm2d(256, eps=1e-05, momentum=0.1, affine=True, track_running_stats=True)\n",
       "        (downsample): Sequential(\n",
       "          (0): Conv2d(128, 256, kernel_size=(1, 1), stride=(2, 2), bias=False)\n",
       "          (1): BatchNorm2d(256, eps=1e-05, momentum=0.1, affine=True, track_running_stats=True)\n",
       "        )\n",
       "      )\n",
       "      (1): BasicBlock(\n",
       "        (conv1): Conv2d(256, 256, kernel_size=(3, 3), stride=(1, 1), padding=(1, 1), bias=False)\n",
       "        (bn1): BatchNorm2d(256, eps=1e-05, momentum=0.1, affine=True, track_running_stats=True)\n",
       "        (relu): ReLU(inplace=True)\n",
       "        (conv2): Conv2d(256, 256, kernel_size=(3, 3), stride=(1, 1), padding=(1, 1), bias=False)\n",
       "        (bn2): BatchNorm2d(256, eps=1e-05, momentum=0.1, affine=True, track_running_stats=True)\n",
       "      )\n",
       "    )\n",
       "    (layer4): Sequential(\n",
       "      (0): BasicBlock(\n",
       "        (conv1): Conv2d(256, 512, kernel_size=(3, 3), stride=(2, 2), padding=(1, 1), bias=False)\n",
       "        (bn1): BatchNorm2d(512, eps=1e-05, momentum=0.1, affine=True, track_running_stats=True)\n",
       "        (relu): ReLU(inplace=True)\n",
       "        (conv2): Conv2d(512, 512, kernel_size=(3, 3), stride=(1, 1), padding=(1, 1), bias=False)\n",
       "        (bn2): BatchNorm2d(512, eps=1e-05, momentum=0.1, affine=True, track_running_stats=True)\n",
       "        (downsample): Sequential(\n",
       "          (0): Conv2d(256, 512, kernel_size=(1, 1), stride=(2, 2), bias=False)\n",
       "          (1): BatchNorm2d(512, eps=1e-05, momentum=0.1, affine=True, track_running_stats=True)\n",
       "        )\n",
       "      )\n",
       "      (1): BasicBlock(\n",
       "        (conv1): Conv2d(512, 512, kernel_size=(3, 3), stride=(1, 1), padding=(1, 1), bias=False)\n",
       "        (bn1): BatchNorm2d(512, eps=1e-05, momentum=0.1, affine=True, track_running_stats=True)\n",
       "        (relu): ReLU(inplace=True)\n",
       "        (conv2): Conv2d(512, 512, kernel_size=(3, 3), stride=(1, 1), padding=(1, 1), bias=False)\n",
       "        (bn2): BatchNorm2d(512, eps=1e-05, momentum=0.1, affine=True, track_running_stats=True)\n",
       "      )\n",
       "    )\n",
       "    (avgpool): AdaptiveAvgPool2d(output_size=(1, 1))\n",
       "    (fc): Linear(in_features=512, out_features=10, bias=True)\n",
       "  )\n",
       ")"
      ]
     },
     "execution_count": 6,
     "metadata": {},
     "output_type": "execute_result"
    }
   ],
   "source": [
    "model = torch.load('models/resnet18_cifar77ACC.pth',  map_location=torch.device('cpu'))\n",
    "model.eval()"
   ]
  },
  {
   "cell_type": "markdown",
   "id": "9fbe76d5",
   "metadata": {},
   "source": [
    "# INITIAL MODEL EVALUATION"
   ]
  },
  {
   "cell_type": "code",
   "execution_count": 7,
   "id": "5d9dd6044c0b8dfc",
   "metadata": {},
   "outputs": [
    {
     "name": "stdout",
     "output_type": "stream",
     "text": [
      "||===================START TEST/TRAIN ACCURACY=================||\n",
      "|| Test Set Accuracy: 77.34%\n",
      "||==============================END==========================||\n",
      "|| Time to load data: 1731559331.98s\n",
      "|| Time to get accuracy: 57.80s\n",
      "|| Total time: 1731559389.78s\n",
      "||==============================END==========================||\n"
     ]
    }
   ],
   "source": [
    "# turn the data into a tensor\n",
    "test_data_tensor = torch.tensor(test_data).float()\n",
    "test_labels_tensor = torch.tensor(test_labels)\n",
    "\n",
    "# keep track of accuracy\n",
    "correct1 = 0\n",
    "correct2 = 0\n",
    "total1 = len(train_data)\n",
    "total2 = len(test_data)\n",
    "\n",
    "# start test/train accuracy timer\n",
    "accuracy = time.time()\n",
    "\n",
    "print(\"||===================START TEST/TRAIN ACCURACY=================||\")\n",
    "\n",
    "# move tensors to GPU if available\n",
    "if torch.cuda.is_available():\n",
    "    test_data_tensor = test_data_tensor.cuda()\n",
    "    test_labels_tensor = test_labels_tensor.cuda()\n",
    "    \n",
    "            \n",
    "# test the model\n",
    "with torch.no_grad():\n",
    "    for i in range(0, len(test_data), 1000):\n",
    "        # get the input and output\n",
    "        img = test_data_tensor[i:i+1000]\n",
    "        label = test_labels_tensor[i:i+1000]\n",
    "        \n",
    "\n",
    "        # normalise the image\n",
    "        #img = transforms.Normalize(mean=[0.485, 0.456, 0.406], std=[0.229, 0.224, 0.225])(img)\n",
    "\n",
    "        # get the prediction\n",
    "        outputs = model(img)\n",
    "        _, predicted = torch.max(outputs, 1)\n",
    "\n",
    "        # get the number of correct predictions\n",
    "        correct2 += (predicted == label).sum().item()\n",
    "        \n",
    "        del img\n",
    "\n",
    "# print the accuracy\n",
    "print(f\"|| Test Set Accuracy: {correct2 / total2 * 100:.2f}%\")\n",
    "\n",
    "print(\"||==============================END==========================||\")\n",
    "\n",
    "# calculate the time taken to get the accuracy\n",
    "accuracy = time.time() - accuracy\n",
    "\n",
    "# print timing information\n",
    "print(f\"|| Time to load data: {initialisation:.2f}s\")\n",
    "print(f\"|| Time to get accuracy: {accuracy:.2f}s\")\n",
    "print(f\"|| Total time: {initialisation + accuracy:.2f}s\")\n",
    "\n",
    "print(\"||==============================END==========================||\")"
   ]
  },
  {
   "cell_type": "markdown",
   "id": "dd55059d",
   "metadata": {},
   "source": [
    "# UNLEARNING"
   ]
  },
  {
   "cell_type": "code",
   "execution_count": 7,
   "id": "f8c22b66",
   "metadata": {},
   "outputs": [
    {
     "name": "stdout",
     "output_type": "stream",
     "text": [
      "/dcs/21/u2110391/CS407/Machine-Unlearning-x-Continual-Learning/Unlearning\n"
     ]
    }
   ],
   "source": [
    "import copy\n",
    "umodel = copy.deepcopy(model)\n",
    "%cd Unlearning/"
   ]
  },
  {
   "cell_type": "code",
   "execution_count": 8,
   "id": "8c590ba8",
   "metadata": {},
   "outputs": [],
   "source": [
    "from unlearn.scrub import train_distill, iterative_unlearn, scrub\n",
    "from utils import DistillKL, AverageMeter, accuracy\n",
    "from torch.utils.data import Dataset, DataLoader, TensorDataset, random_split, ConcatDataset, Subset\n",
    "\n",
    "# Convert the data to PyTorch tensors\n",
    "train_dataset = TensorDataset(torch.tensor(train_data), torch.tensor(train_labels))\n",
    "train_loader = DataLoader(train_dataset, batch_size=64, shuffle=True)\n",
    "\n",
    "test_dataset = TensorDataset(torch.tensor(test_data), torch.tensor(test_labels))\n",
    "test_loader = DataLoader(test_dataset, batch_size=64, shuffle=False)\n"
   ]
  },
  {
   "cell_type": "code",
   "execution_count": null,
   "id": "78e88c19",
   "metadata": {},
   "outputs": [
    {
     "name": "stdout",
     "output_type": "stream",
     "text": [
      "Epoch #0, Learning rate: 0.1\n",
      "Epoch: [0][79/783]\tLoss 26.1102 (26.1102)\tAccuracy 9.375 (9.375)\tTime 5.30\n",
      "Epoch: [0][89/783]\tLoss 8.1634 (11.9757)\tAccuracy 20.312 (13.210)\tTime 39.00\n",
      "Epoch: [0][99/783]\tLoss 3.2917 (8.0729)\tAccuracy 23.438 (16.667)\tTime 29.50\n",
      "Epoch: [0][109/783]\tLoss 2.1213 (6.2596)\tAccuracy 29.688 (17.692)\tTime 23.70\n",
      "Epoch: [0][119/783]\tLoss 1.9278 (5.2624)\tAccuracy 23.438 (19.398)\tTime 21.10\n",
      "Epoch: [0][129/783]\tLoss 2.1709 (4.6324)\tAccuracy 23.438 (20.925)\tTime 53.20\n",
      "Epoch: [0][139/783]\tLoss 1.9407 (4.1934)\tAccuracy 25.000 (21.901)\tTime 64.20\n",
      "Epoch: [0][149/783]\tLoss 1.9613 (3.8677)\tAccuracy 28.125 (23.063)\tTime 42.50\n",
      "Epoch: [0][159/783]\tLoss 1.8104 (3.6219)\tAccuracy 25.000 (24.190)\tTime 125.60\n",
      "Epoch: [0][169/783]\tLoss 1.7255 (3.4248)\tAccuracy 39.062 (24.914)\tTime 72.89\n",
      "Epoch: [0][179/783]\tLoss 1.7884 (3.2651)\tAccuracy 34.375 (25.402)\tTime 71.50\n",
      "Epoch: [0][189/783]\tLoss 1.9527 (3.1358)\tAccuracy 28.125 (25.915)\tTime 43.70\n",
      "Epoch: [0][199/783]\tLoss 1.7274 (3.0324)\tAccuracy 29.688 (26.123)\tTime 20.60\n",
      "Epoch: [0][209/783]\tLoss 1.7599 (2.9379)\tAccuracy 37.500 (26.455)\tTime 23.90\n",
      "Epoch: [0][219/783]\tLoss 1.8644 (2.8576)\tAccuracy 29.688 (26.961)\tTime 26.90\n",
      "Epoch: [0][229/783]\tLoss 1.6647 (2.7852)\tAccuracy 28.125 (27.349)\tTime 29.80\n",
      "Epoch: [0][239/783]\tLoss 1.6699 (2.7189)\tAccuracy 42.188 (27.844)\tTime 22.00\n",
      "Epoch: [0][249/783]\tLoss 1.6498 (2.6588)\tAccuracy 35.938 (28.399)\tTime 20.10\n",
      "Epoch: [0][259/783]\tLoss 1.8627 (2.6097)\tAccuracy 29.688 (28.747)\tTime 97.30\n",
      "Epoch: [0][269/783]\tLoss 1.7463 (2.5636)\tAccuracy 43.750 (29.188)\tTime 486.00\n",
      "Epoch: [0][279/783]\tLoss 1.6499 (2.5206)\tAccuracy 34.375 (29.423)\tTime 25.70\n",
      "Epoch: [0][289/783]\tLoss 1.6423 (2.4787)\tAccuracy 45.312 (29.873)\tTime 22.40\n",
      "Epoch: [0][299/783]\tLoss 1.5018 (2.4414)\tAccuracy 46.875 (30.352)\tTime 19.70\n",
      "Epoch: [0][309/783]\tLoss 1.5405 (2.4091)\tAccuracy 37.500 (30.668)\tTime 20.70\n",
      "Epoch: [0][319/783]\tLoss 1.7521 (2.3808)\tAccuracy 37.500 (30.965)\tTime 21.10\n",
      "Epoch: [0][329/783]\tLoss 1.4617 (2.3538)\tAccuracy 43.750 (31.057)\tTime 21.20\n",
      "Epoch: [0][339/783]\tLoss 1.6384 (2.3263)\tAccuracy 43.750 (31.406)\tTime 23.40\n"
     ]
    }
   ],
   "source": [
    "import torch\n",
    "import torch.nn as nn\n",
    "from torch.utils.data import DataLoader, TensorDataset\n",
    "from unlearn.RL import RL\n",
    "\n",
    "# Assume 'train_data' and 'train_labels' are your training data and labels\n",
    "# 'test_data' and 'test_labels' are your test data and labels\n",
    "# 'model' is your pretrained ResNet model\n",
    "\n",
    "# Define the class you want to unlearn\n",
    "class_to_unlearn = 0  # Change this to the class you want to unlearn\n",
    "\n",
    "\n",
    "# Convert data and labels to tensors if they aren't already\n",
    "train_data_tensor = torch.tensor(train_data, dtype=torch.float32)\n",
    "train_labels_tensor = torch.tensor(train_labels)\n",
    "test_data_tensor = torch.tensor(test_data, dtype=torch.float32)\n",
    "test_labels_tensor = torch.tensor(test_labels)\n",
    "\n",
    "# Create TensorDatasets directly for 'forget' and 'retain' subsets\n",
    "forget_indices = (train_labels_tensor == class_to_unlearn).nonzero(as_tuple=True)[0]\n",
    "retain_indices = (train_labels_tensor != class_to_unlearn).nonzero(as_tuple=True)[0]\n",
    "\n",
    "# Create 'forget' dataset\n",
    "forget_data = train_data_tensor[forget_indices]\n",
    "forget_labels = train_labels_tensor[forget_indices]\n",
    "forget_dataset = TensorDataset(forget_data, forget_labels)\n",
    "\n",
    "# Create 'retain' dataset\n",
    "retain_data = train_data_tensor[retain_indices]\n",
    "retain_labels = train_labels_tensor[retain_indices]\n",
    "retain_dataset = TensorDataset(retain_data, retain_labels)\n",
    "\n",
    "# Create DataLoaders\n",
    "forget_loader = DataLoader(forget_dataset, batch_size=64, shuffle=True)\n",
    "retain_loader = DataLoader(retain_dataset, batch_size=64, shuffle=True)\n",
    "\n",
    "# Prepare the data_loaders dictionary\n",
    "data_loaders = {'forget': forget_loader, 'retain': retain_loader}\n",
    "\n",
    "# Create the test DataLoader\n",
    "test_dataset = TensorDataset(test_data_tensor, test_labels_tensor)\n",
    "test_loader = DataLoader(test_dataset, batch_size=64, shuffle=False)\n",
    "\n",
    "# Move the model to device\n",
    "device = torch.device('cuda' if torch.cuda.is_available() else 'cpu')\n",
    "model.to(device)\n",
    "\n",
    "# Define the criterion and optimizer\n",
    "criterion = nn.CrossEntropyLoss()\n",
    "optimizer = torch.optim.SGD(model.parameters(), lr=0.1, momentum=0.9, weight_decay=5e-4)\n",
    "\n",
    "class Args:\n",
    "    def __init__(self):\n",
    "        self.unlearn_lr = 0.1         # Learning rate for unlearning\n",
    "        self.momentum = 0.9\n",
    "        self.weight_decay = 5e-4\n",
    "        self.dataset = ''      # Change as needed\n",
    "        self.num_classes = 10         # Number of classes in the dataset\n",
    "        self.batch_size = 64\n",
    "        self.print_freq = 10\n",
    "        self.warmup = 0               # Number of warmup epochs\n",
    "        self.imagenet_arch = False    # Set to True if using ImageNet architecture\n",
    "        self.seed = 42                # For reproducibility\n",
    "\n",
    "\n",
    "        # Add the following attributes to ensure compatibility\n",
    "        self.decreasing_lr = '50,75'  # Comma-separated epochs where LR decays\n",
    "        self.rewind_epoch = 0         # Epoch to rewind to; set to 0 if not using rewinding\n",
    "        self.rewind_pth = ''          # Path to the rewind checkpoint\n",
    "        self.gpu = 0                  # GPU ID to use; adjust as needed\n",
    "        self.surgical = False         # Whether to use surgical unlearning\n",
    "        self.choice = []              # Layers to unlearn surgically; list of layer names\n",
    "        self.unlearn = 'retrain'      # Unlearning method, e.g., 'retrain'\n",
    "        self.unlearn_epochs = 10     # Number of epochs for unlearning\n",
    "        self.epochs = 100             # Total number of epochs (used for scheduler)    # For reproducibility\n",
    "\n",
    "args = Args()\n",
    "\n",
    "# Now, call the RL function with adjusted arguments\n",
    "RL(data_loaders, model, criterion, args=args)\n",
    "\n",
    "# The unlearned model is now in 'model'\n",
    "unlearned_model = model\n",
    "\n",
    "# Evaluate the unlearned model on the test dataset\n",
    "unlearned_model.eval()\n",
    "correct = 0\n",
    "total = 0\n",
    "with torch.no_grad():\n",
    "    for inputs, labels in test_loader:\n",
    "        inputs = inputs.to(device).float()\n",
    "        labels = labels.to(device).long()\n",
    "        outputs = unlearned_model(inputs)\n",
    "        _, predicted = torch.max(outputs.data, 1)\n",
    "        total += labels.size(0)\n",
    "        correct += (predicted == labels).sum().item()\n",
    "\n",
    "print('Accuracy of the unlearned model on the test data: {:.2f}%'.format(100 * correct / total))"
   ]
  }
 ],
 "metadata": {
  "kernelspec": {
   "display_name": ".venv",
   "language": "python",
   "name": "python3"
  },
  "language_info": {
   "codemirror_mode": {
    "name": "ipython",
    "version": 3
   },
   "file_extension": ".py",
   "mimetype": "text/x-python",
   "name": "python",
   "nbconvert_exporter": "python",
   "pygments_lexer": "ipython3",
   "version": "3.9.18"
  }
 },
 "nbformat": 4,
 "nbformat_minor": 5
}
